{
  "nbformat": 4,
  "nbformat_minor": 0,
  "metadata": {
    "colab": {
      "name": "Cyber_security_aula3.ipynb",
      "provenance": [],
      "authorship_tag": "ABX9TyMkziNinViJiSK+6s0yqPQh",
      "include_colab_link": true
    },
    "kernelspec": {
      "name": "python3",
      "display_name": "Python 3"
    },
    "language_info": {
      "name": "python"
    }
  },
  "cells": [
    {
      "cell_type": "markdown",
      "metadata": {
        "id": "view-in-github",
        "colab_type": "text"
      },
      "source": [
        "<a href=\"https://colab.research.google.com/github/rodrigofer89/cybersecurity/blob/main/Cyber_security_aula3/v2.ipynb\" target=\"_parent\"><img src=\"https://colab.research.google.com/assets/colab-badge.svg\" alt=\"Open In Colab\"/></a>"
      ]
    },
    {
      "cell_type": "code",
      "execution_count": 27,
      "metadata": {
        "colab": {
          "base_uri": "https://localhost:8080/"
        },
        "id": "M7cf6LwkKXDy",
        "outputId": "30448523-0512-4e5e-953a-0fa0843a6817"
      },
      "outputs": [
        {
          "output_type": "stream",
          "name": "stdout",
          "text": [
            "Requirement already satisfied: fuzzywuzzy[speedup] in /usr/local/lib/python3.7/dist-packages (0.18.0)\n",
            "Requirement already satisfied: python-levenshtein>=0.12 in /usr/local/lib/python3.7/dist-packages (from fuzzywuzzy[speedup]) (0.12.2)\n",
            "Requirement already satisfied: setuptools in /usr/local/lib/python3.7/dist-packages (from python-levenshtein>=0.12->fuzzywuzzy[speedup]) (57.4.0)\n"
          ]
        }
      ],
      "source": [
        "!pip install fuzzywuzzy[speedup]"
      ]
    },
    {
      "cell_type": "code",
      "source": [
        "from fuzzywuzzy import process"
      ],
      "metadata": {
        "id": "0L5XGd1DK4vE"
      },
      "execution_count": 28,
      "outputs": []
    },
    {
      "cell_type": "code",
      "source": [
        "lista = [\"canabis\", \"maconha\", \"bud\", \"banza\", \"bagulho\", \"cigarrinho\", \"aliamba\", \"baseado\", \"cigarro do capeta\", \"erva\", \"dedo de gorila\", \"fino\", \"bomba\", \"ganza\"]\n",
        "\n",
        "texto = input(\"Digite um texto\")\n",
        "\n",
        "process.extract(texto, lista)"
      ],
      "metadata": {
        "colab": {
          "base_uri": "https://localhost:8080/"
        },
        "id": "2KPJdqB4LNKe",
        "outputId": "9d92b121-472e-4348-bb80-0ea4c5bde08d"
      },
      "execution_count": 70,
      "outputs": [
        {
          "name": "stdout",
          "output_type": "stream",
          "text": [
            "Digite um textoTo vendendo um base4do\n"
          ]
        },
        {
          "output_type": "execute_result",
          "data": {
            "text/plain": [
              "[('baseado', 77),\n",
              " ('bomba', 54),\n",
              " ('dedo de gorila', 45),\n",
              " ('fino', 43),\n",
              " ('bagulho', 39)]"
            ]
          },
          "metadata": {},
          "execution_count": 70
        }
      ]
    },
    {
      "cell_type": "code",
      "source": [
        "def getMatch(field):\n",
        "  match_list = [\"canabis\", \"maconha\", \"bud\", \"banza\", \"bagulho\", \"cigarrinho\", \"aliamba\", \"baseado\", \"cigarro do capeta\", \"erva\", \"dedo de gorila\", \"fino\", \"bomba\", \"ganza\"]\n",
        "  search_list = process.extract(field, match_list)\n",
        "\n",
        "  result =  []\n",
        "\n",
        "  for text in search_list:\n",
        "    if text[1] >= 54:\n",
        "      result.append(text)\n",
        "      return \"produto proibido? sim\"\n",
        "    if len(result) == 0:\n",
        "      return \"produto proibido? Não\"\n",
        "getMatch(input())"
      ],
      "metadata": {
        "id": "7Vmawks1LhXV",
        "colab": {
          "base_uri": "https://localhost:8080/",
          "height": 52
        },
        "outputId": "93a7e25a-60d4-41e5-cbee-4fc101a5f0e2"
      },
      "execution_count": 71,
      "outputs": [
        {
          "name": "stdout",
          "output_type": "stream",
          "text": [
            "To vendendo um base4do\n"
          ]
        },
        {
          "output_type": "execute_result",
          "data": {
            "text/plain": [
              "'produto proibido? sim'"
            ],
            "application/vnd.google.colaboratory.intrinsic+json": {
              "type": "string"
            }
          },
          "metadata": {},
          "execution_count": 71
        }
      ]
    }
  ]
}