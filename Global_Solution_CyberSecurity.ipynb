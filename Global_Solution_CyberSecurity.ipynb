{
  "nbformat": 4,
  "nbformat_minor": 0,
  "metadata": {
    "colab": {
      "name": "GlobalCyber.ipynb",
      "provenance": [],
      "mount_file_id": "1xGvuqV8yn6D0TsfmrY0yKCTyM_WTZYwa",
      "authorship_tag": "ABX9TyNrA0HNcDzYHEIAxE4KgFg5",
      "include_colab_link": true
    },
    "kernelspec": {
      "name": "python3",
      "display_name": "Python 3"
    },
    "language_info": {
      "name": "python"
    },
    "accelerator": "GPU",
    "gpuClass": "standard"
  },
  "cells": [
    {
      "cell_type": "markdown",
      "metadata": {
        "id": "view-in-github",
        "colab_type": "text"
      },
      "source": [
        "<a href=\"https://colab.research.google.com/github/rodrigofer89/cybersecurity/blob/main/Global_Solution_CyberSecurity.ipynb\" target=\"_parent\"><img src=\"https://colab.research.google.com/assets/colab-badge.svg\" alt=\"Open In Colab\"/></a>"
      ]
    },
    {
      "cell_type": "code",
      "execution_count": null,
      "metadata": {
        "id": "f4DrRajfn83D"
      },
      "outputs": [],
      "source": [
        "# Apenas para evitar warnings \n",
        "import warnings\n",
        "warnings.filterwarnings('ignore')\n",
        "\n",
        "# Bibliotecas de Data Science\n",
        "import pandas as pd\n",
        "import numpy as np\n",
        "import seaborn as sb\n",
        "import matplotlib.pyplot as plt\n",
        "from matplotlib import pyplot\n",
        "\n",
        "# Padronização dos dados\n",
        "from sklearn.preprocessing import LabelEncoder, StandardScaler, MinMaxScaler\n",
        "\n",
        "# Modelo a ser utilizado\n",
        "from sklearn.model_selection import train_test_split\n",
        "from sklearn import linear_model\n",
        "\n",
        "# Métricas de avaliação\n",
        "from sklearn.metrics import classification_report, accuracy_score\n"
      ]
    },
    {
      "cell_type": "code",
      "source": [
        "df = pd.read_csv('PS_20174392719_1491204439457_log.csv')"
      ],
      "metadata": {
        "id": "y1IaCEI33E5B"
      },
      "execution_count": null,
      "outputs": []
    },
    {
      "cell_type": "code",
      "source": [
        "df.shape"
      ],
      "metadata": {
        "id": "GLMWwzw03UoG",
        "colab": {
          "base_uri": "https://localhost:8080/"
        },
        "outputId": "49c8a459-b99d-424d-91ed-e1eb21e9b08a"
      },
      "execution_count": null,
      "outputs": [
        {
          "output_type": "execute_result",
          "data": {
            "text/plain": [
              "(69858, 11)"
            ]
          },
          "metadata": {},
          "execution_count": 6
        }
      ]
    },
    {
      "cell_type": "code",
      "source": [
        "df.head(5)"
      ],
      "metadata": {
        "id": "0zP_UKPJ9xhD",
        "colab": {
          "base_uri": "https://localhost:8080/",
          "height": 206
        },
        "outputId": "def714f9-9782-4ced-f5b1-4a66ea6838a6"
      },
      "execution_count": null,
      "outputs": [
        {
          "output_type": "execute_result",
          "data": {
            "text/plain": [
              "   step      type    amount     nameOrig  oldbalanceOrg  newbalanceOrig  \\\n",
              "0     1   PAYMENT   9839.64  C1231006815       170136.0       160296.36   \n",
              "1     1   PAYMENT   1864.28  C1666544295        21249.0        19384.72   \n",
              "2     1  TRANSFER    181.00  C1305486145          181.0            0.00   \n",
              "3     1  CASH_OUT    181.00   C840083671          181.0            0.00   \n",
              "4     1   PAYMENT  11668.14  C2048537720        41554.0        29885.86   \n",
              "\n",
              "      nameDest  oldbalanceDest  newbalanceDest  isFraud  isFlaggedFraud  \n",
              "0  M1979787155             0.0             0.0      0.0             0.0  \n",
              "1  M2044282225             0.0             0.0      0.0             0.0  \n",
              "2   C553264065             0.0             0.0      1.0             0.0  \n",
              "3    C38997010         21182.0             0.0      1.0             0.0  \n",
              "4  M1230701703             0.0             0.0      0.0             0.0  "
            ],
            "text/html": [
              "\n",
              "  <div id=\"df-168e0541-02ca-4e87-b241-c2a7ef0dcdb8\">\n",
              "    <div class=\"colab-df-container\">\n",
              "      <div>\n",
              "<style scoped>\n",
              "    .dataframe tbody tr th:only-of-type {\n",
              "        vertical-align: middle;\n",
              "    }\n",
              "\n",
              "    .dataframe tbody tr th {\n",
              "        vertical-align: top;\n",
              "    }\n",
              "\n",
              "    .dataframe thead th {\n",
              "        text-align: right;\n",
              "    }\n",
              "</style>\n",
              "<table border=\"1\" class=\"dataframe\">\n",
              "  <thead>\n",
              "    <tr style=\"text-align: right;\">\n",
              "      <th></th>\n",
              "      <th>step</th>\n",
              "      <th>type</th>\n",
              "      <th>amount</th>\n",
              "      <th>nameOrig</th>\n",
              "      <th>oldbalanceOrg</th>\n",
              "      <th>newbalanceOrig</th>\n",
              "      <th>nameDest</th>\n",
              "      <th>oldbalanceDest</th>\n",
              "      <th>newbalanceDest</th>\n",
              "      <th>isFraud</th>\n",
              "      <th>isFlaggedFraud</th>\n",
              "    </tr>\n",
              "  </thead>\n",
              "  <tbody>\n",
              "    <tr>\n",
              "      <th>0</th>\n",
              "      <td>1</td>\n",
              "      <td>PAYMENT</td>\n",
              "      <td>9839.64</td>\n",
              "      <td>C1231006815</td>\n",
              "      <td>170136.0</td>\n",
              "      <td>160296.36</td>\n",
              "      <td>M1979787155</td>\n",
              "      <td>0.0</td>\n",
              "      <td>0.0</td>\n",
              "      <td>0.0</td>\n",
              "      <td>0.0</td>\n",
              "    </tr>\n",
              "    <tr>\n",
              "      <th>1</th>\n",
              "      <td>1</td>\n",
              "      <td>PAYMENT</td>\n",
              "      <td>1864.28</td>\n",
              "      <td>C1666544295</td>\n",
              "      <td>21249.0</td>\n",
              "      <td>19384.72</td>\n",
              "      <td>M2044282225</td>\n",
              "      <td>0.0</td>\n",
              "      <td>0.0</td>\n",
              "      <td>0.0</td>\n",
              "      <td>0.0</td>\n",
              "    </tr>\n",
              "    <tr>\n",
              "      <th>2</th>\n",
              "      <td>1</td>\n",
              "      <td>TRANSFER</td>\n",
              "      <td>181.00</td>\n",
              "      <td>C1305486145</td>\n",
              "      <td>181.0</td>\n",
              "      <td>0.00</td>\n",
              "      <td>C553264065</td>\n",
              "      <td>0.0</td>\n",
              "      <td>0.0</td>\n",
              "      <td>1.0</td>\n",
              "      <td>0.0</td>\n",
              "    </tr>\n",
              "    <tr>\n",
              "      <th>3</th>\n",
              "      <td>1</td>\n",
              "      <td>CASH_OUT</td>\n",
              "      <td>181.00</td>\n",
              "      <td>C840083671</td>\n",
              "      <td>181.0</td>\n",
              "      <td>0.00</td>\n",
              "      <td>C38997010</td>\n",
              "      <td>21182.0</td>\n",
              "      <td>0.0</td>\n",
              "      <td>1.0</td>\n",
              "      <td>0.0</td>\n",
              "    </tr>\n",
              "    <tr>\n",
              "      <th>4</th>\n",
              "      <td>1</td>\n",
              "      <td>PAYMENT</td>\n",
              "      <td>11668.14</td>\n",
              "      <td>C2048537720</td>\n",
              "      <td>41554.0</td>\n",
              "      <td>29885.86</td>\n",
              "      <td>M1230701703</td>\n",
              "      <td>0.0</td>\n",
              "      <td>0.0</td>\n",
              "      <td>0.0</td>\n",
              "      <td>0.0</td>\n",
              "    </tr>\n",
              "  </tbody>\n",
              "</table>\n",
              "</div>\n",
              "      <button class=\"colab-df-convert\" onclick=\"convertToInteractive('df-168e0541-02ca-4e87-b241-c2a7ef0dcdb8')\"\n",
              "              title=\"Convert this dataframe to an interactive table.\"\n",
              "              style=\"display:none;\">\n",
              "        \n",
              "  <svg xmlns=\"http://www.w3.org/2000/svg\" height=\"24px\"viewBox=\"0 0 24 24\"\n",
              "       width=\"24px\">\n",
              "    <path d=\"M0 0h24v24H0V0z\" fill=\"none\"/>\n",
              "    <path d=\"M18.56 5.44l.94 2.06.94-2.06 2.06-.94-2.06-.94-.94-2.06-.94 2.06-2.06.94zm-11 1L8.5 8.5l.94-2.06 2.06-.94-2.06-.94L8.5 2.5l-.94 2.06-2.06.94zm10 10l.94 2.06.94-2.06 2.06-.94-2.06-.94-.94-2.06-.94 2.06-2.06.94z\"/><path d=\"M17.41 7.96l-1.37-1.37c-.4-.4-.92-.59-1.43-.59-.52 0-1.04.2-1.43.59L10.3 9.45l-7.72 7.72c-.78.78-.78 2.05 0 2.83L4 21.41c.39.39.9.59 1.41.59.51 0 1.02-.2 1.41-.59l7.78-7.78 2.81-2.81c.8-.78.8-2.07 0-2.86zM5.41 20L4 18.59l7.72-7.72 1.47 1.35L5.41 20z\"/>\n",
              "  </svg>\n",
              "      </button>\n",
              "      \n",
              "  <style>\n",
              "    .colab-df-container {\n",
              "      display:flex;\n",
              "      flex-wrap:wrap;\n",
              "      gap: 12px;\n",
              "    }\n",
              "\n",
              "    .colab-df-convert {\n",
              "      background-color: #E8F0FE;\n",
              "      border: none;\n",
              "      border-radius: 50%;\n",
              "      cursor: pointer;\n",
              "      display: none;\n",
              "      fill: #1967D2;\n",
              "      height: 32px;\n",
              "      padding: 0 0 0 0;\n",
              "      width: 32px;\n",
              "    }\n",
              "\n",
              "    .colab-df-convert:hover {\n",
              "      background-color: #E2EBFA;\n",
              "      box-shadow: 0px 1px 2px rgba(60, 64, 67, 0.3), 0px 1px 3px 1px rgba(60, 64, 67, 0.15);\n",
              "      fill: #174EA6;\n",
              "    }\n",
              "\n",
              "    [theme=dark] .colab-df-convert {\n",
              "      background-color: #3B4455;\n",
              "      fill: #D2E3FC;\n",
              "    }\n",
              "\n",
              "    [theme=dark] .colab-df-convert:hover {\n",
              "      background-color: #434B5C;\n",
              "      box-shadow: 0px 1px 3px 1px rgba(0, 0, 0, 0.15);\n",
              "      filter: drop-shadow(0px 1px 2px rgba(0, 0, 0, 0.3));\n",
              "      fill: #FFFFFF;\n",
              "    }\n",
              "  </style>\n",
              "\n",
              "      <script>\n",
              "        const buttonEl =\n",
              "          document.querySelector('#df-168e0541-02ca-4e87-b241-c2a7ef0dcdb8 button.colab-df-convert');\n",
              "        buttonEl.style.display =\n",
              "          google.colab.kernel.accessAllowed ? 'block' : 'none';\n",
              "\n",
              "        async function convertToInteractive(key) {\n",
              "          const element = document.querySelector('#df-168e0541-02ca-4e87-b241-c2a7ef0dcdb8');\n",
              "          const dataTable =\n",
              "            await google.colab.kernel.invokeFunction('convertToInteractive',\n",
              "                                                     [key], {});\n",
              "          if (!dataTable) return;\n",
              "\n",
              "          const docLinkHtml = 'Like what you see? Visit the ' +\n",
              "            '<a target=\"_blank\" href=https://colab.research.google.com/notebooks/data_table.ipynb>data table notebook</a>'\n",
              "            + ' to learn more about interactive tables.';\n",
              "          element.innerHTML = '';\n",
              "          dataTable['output_type'] = 'display_data';\n",
              "          await google.colab.output.renderOutput(dataTable, element);\n",
              "          const docLink = document.createElement('div');\n",
              "          docLink.innerHTML = docLinkHtml;\n",
              "          element.appendChild(docLink);\n",
              "        }\n",
              "      </script>\n",
              "    </div>\n",
              "  </div>\n",
              "  "
            ]
          },
          "metadata": {},
          "execution_count": 7
        }
      ]
    },
    {
      "cell_type": "code",
      "source": [
        "df.info()"
      ],
      "metadata": {
        "id": "e_CKxDbw3Wxe",
        "colab": {
          "base_uri": "https://localhost:8080/"
        },
        "outputId": "1e2463bc-fd72-4a27-9ac0-704737a1c7a6"
      },
      "execution_count": null,
      "outputs": [
        {
          "output_type": "stream",
          "name": "stdout",
          "text": [
            "<class 'pandas.core.frame.DataFrame'>\n",
            "RangeIndex: 69858 entries, 0 to 69857\n",
            "Data columns (total 11 columns):\n",
            " #   Column          Non-Null Count  Dtype  \n",
            "---  ------          --------------  -----  \n",
            " 0   step            69858 non-null  int64  \n",
            " 1   type            69858 non-null  object \n",
            " 2   amount          69858 non-null  float64\n",
            " 3   nameOrig        69858 non-null  object \n",
            " 4   oldbalanceOrg   69858 non-null  float64\n",
            " 5   newbalanceOrig  69858 non-null  float64\n",
            " 6   nameDest        69858 non-null  object \n",
            " 7   oldbalanceDest  69858 non-null  float64\n",
            " 8   newbalanceDest  69857 non-null  float64\n",
            " 9   isFraud         69857 non-null  float64\n",
            " 10  isFlaggedFraud  69857 non-null  float64\n",
            "dtypes: float64(7), int64(1), object(3)\n",
            "memory usage: 5.9+ MB\n"
          ]
        }
      ]
    },
    {
      "cell_type": "code",
      "source": [
        "df.isna().sum()"
      ],
      "metadata": {
        "id": "M_VEkCOQ3V44",
        "colab": {
          "base_uri": "https://localhost:8080/",
          "height": 172
        },
        "outputId": "7a3c3ef2-8ac4-4c33-9135-b18f2078e60e"
      },
      "execution_count": null,
      "outputs": [
        {
          "output_type": "error",
          "ename": "NameError",
          "evalue": "ignored",
          "traceback": [
            "\u001b[0;31m---------------------------------------------------------------------------\u001b[0m",
            "\u001b[0;31mNameError\u001b[0m                                 Traceback (most recent call last)",
            "\u001b[0;32m<ipython-input-2-39de6da29611>\u001b[0m in \u001b[0;36m<module>\u001b[0;34m()\u001b[0m\n\u001b[0;32m----> 1\u001b[0;31m \u001b[0mdf\u001b[0m\u001b[0;34m.\u001b[0m\u001b[0misna\u001b[0m\u001b[0;34m(\u001b[0m\u001b[0;34m)\u001b[0m\u001b[0;34m.\u001b[0m\u001b[0msum\u001b[0m\u001b[0;34m(\u001b[0m\u001b[0;34m)\u001b[0m\u001b[0;34m\u001b[0m\u001b[0;34m\u001b[0m\u001b[0m\n\u001b[0m",
            "\u001b[0;31mNameError\u001b[0m: name 'df' is not defined"
          ]
        }
      ]
    },
    {
      "cell_type": "markdown",
      "source": [
        "### *Não temos valores nulos*"
      ],
      "metadata": {
        "id": "zUwCSH_k3gno"
      }
    },
    {
      "cell_type": "code",
      "source": [
        "df.describe()"
      ],
      "metadata": {
        "id": "FVInXrAQ3sWG"
      },
      "execution_count": null,
      "outputs": []
    },
    {
      "cell_type": "markdown",
      "source": [
        "### Dando uma olhada na coluna target conseguimos ver que temos poucos exemplos de fraude, isso pode ser um problema"
      ],
      "metadata": {
        "id": "0QWWp3ZC45On"
      }
    },
    {
      "cell_type": "code",
      "source": [
        "# Correlação\n",
        "upp_mat = np.triu(df.corr())\n",
        "sb.heatmap(df.corr()[['isFraud']].sort_values(by='isFraud', ascending=False), vmin = - 1, vmax = + 1, annot = True, cmap = 'coolwarm')"
      ],
      "metadata": {
        "id": "SbkaFDAi5G1D"
      },
      "execution_count": null,
      "outputs": []
    },
    {
      "cell_type": "code",
      "source": [
        "# Histograma das colunas númericas\n",
        "for col in df.columns: \n",
        "    if df.dtypes[col] in ('int64','float64'):\n",
        "        fig = plt.figure(figsize =(3, 3))\n",
        "        plt.title(col)\n",
        "        pyplot.hist(df[col])\n",
        "        pyplot.show()"
      ],
      "metadata": {
        "id": "OJL_WPFzqSey"
      },
      "execution_count": null,
      "outputs": []
    },
    {
      "cell_type": "code",
      "source": [
        "# Teste de Shapiro\n",
        "variavel_normal = 0\n",
        "variavel_nao_normal = 0\n",
        "\n",
        "from scipy.stats import shapiro\n",
        "for col in df.columns: \n",
        "    if df.dtypes[col] in ('int64','float64'):\n",
        "        stat, p = shapiro(df[col])\n",
        "        print(col)\n",
        "        print('Statistics=%.3f, p=%.23f' % (stat, p))\n",
        "        alpha = 0.05\n",
        "        if p > alpha:\n",
        "            print('Distribuição Normal')\n",
        "            variavel_normal += 1\n",
        "        else:\n",
        "            print('Distribuição não normal')\n",
        "            variavel_nao_normal += 1\n",
        "        print(\"----------------------------\")\n",
        "quantidade_variaveis = variavel_normal + variavel_nao_normal\n",
        "resultado_shapiro,distribuicao_normal = (\"seguem uma distribuição normal\",1) \\\n",
        "                                        if variavel_normal > variavel_nao_normal \\\n",
        "                                        else (\"não seguem uma distribuição normal\",0)\n",
        "print(f'Com base na análise das {quantidade_variaveis} variáveis numéricas através do teste de Shapiro, \\n' \n",
        "      f'foi possível verificar que a maioria das variáveis {resultado_shapiro}. \\n'\n",
        "      f'Quantidade variáveis que seguem uma distribuição normal:{variavel_normal} \\n'\n",
        "      f'Quantidade variáveis que não seguem uma distribuição normal:{variavel_nao_normal} \\n')"
      ],
      "metadata": {
        "id": "_2K2Vaodq8IX"
      },
      "execution_count": null,
      "outputs": []
    },
    {
      "cell_type": "markdown",
      "source": [
        "*   Analise de correlação mostrou que a coluna AMOUNT tem uma alta correlação positiva com a coluna ISFRAUD, já as que envolvem o BALANCE tem uma alta correlação negativa\n",
        "\n",
        "* Foi feito um histograma das colunas númericas para verificar a distribuição dos dados, com isso vimos que os dados não seguem uma distribuição normal\n",
        "\n",
        "* Com o teste de Shapiro conseguimos ver que realmente o dataset não segue uma distribuição normal\n",
        "\n"
      ],
      "metadata": {
        "id": "do8Ast_N98Rm"
      }
    },
    {
      "cell_type": "code",
      "source": [
        "# plot da coluna 'type'\n",
        "fig, ax = plt.subplots()\n",
        "sb.countplot(df.isFraud,hue=df.type,ax=ax)\n",
        "for i in ax.patches:\n",
        "  valor = i.get_x() + i.get_height()\n",
        "  x = i.get_x() + i.get_width()\n",
        "  y = i.get_y() + i.get_height()\n",
        "  ax.annotate(valor,(x,y))\n"
      ],
      "metadata": {
        "id": "9_hAR0G_6jiL"
      },
      "execution_count": null,
      "outputs": []
    },
    {
      "cell_type": "code",
      "source": [
        "# Observando quais transações tem ocorrência de fraude\n",
        "print('Tipos de transações Fraudulentos: ', list(df.loc[(df.isFraud == 1)].type.unique()))"
      ],
      "metadata": {
        "id": "fTodAo5NBfhF"
      },
      "execution_count": null,
      "outputs": []
    },
    {
      "cell_type": "code",
      "source": [
        "# Vendo a distribuição dos dados que tem ocorrência de fraude\n",
        "print(df['isFraud'].value_counts())\n",
        "print('=-' *15)\n",
        "print(df['isFraud'].value_counts(normalize=True))"
      ],
      "metadata": {
        "id": "0uuzkCl3siRE"
      },
      "execution_count": null,
      "outputs": []
    },
    {
      "cell_type": "markdown",
      "source": [
        "*   Decidimos olhar a coluna TYPE para observar quais transações tem maior indice de fraude, com isso conseguimos ver que apenas dois tipos de transações nesse exemplo são sinalizados com fraude, TRANSFER e CASH_OUT\n",
        "\n",
        "*   Olhando somente os valores de fraude ou não, temos uma melhor visão de que o dataset está muito desbalanciado cerca de 99% dos dados não são fraudes"
      ],
      "metadata": {
        "id": "GakPttO0_Z8V"
      }
    },
    {
      "cell_type": "code",
      "source": [
        "df['isFlaggedFraud'].value_counts()"
      ],
      "metadata": {
        "id": "dEG06HVKAgsW"
      },
      "execution_count": null,
      "outputs": []
    },
    {
      "cell_type": "code",
      "source": [
        "len(df.loc[(df['isFlaggedFraud'] == 1)& (df.isFraud == 1)])"
      ],
      "metadata": {
        "id": "1YbeVCCYDoyh"
      },
      "execution_count": null,
      "outputs": []
    },
    {
      "cell_type": "markdown",
      "source": [
        "*   Olhando a coluna ISFRAGGEDFRAUD conseguimos ver que existiam 16 sinalizações de possiveis fraudes então comparamos com a coluna ISFRAUD e vimos que todas as sinalizações em ISFRAGGEDFRAUD estão presentes em ISFRAUD então é uma coluna que não parece útil."
      ],
      "metadata": {
        "id": "wMrOO-j-EMsY"
      }
    },
    {
      "cell_type": "markdown",
      "source": [
        "### ***Data Cleaning*** and ***Feature Engineering***"
      ],
      "metadata": {
        "id": "PRcQzQZKFcQr"
      }
    },
    {
      "cell_type": "code",
      "source": [
        "df.drop(['nameOrig', 'nameDest', 'isFlaggedFraud'], axis=1, inplace = True)"
      ],
      "metadata": {
        "id": "5jt4sEFIFvQZ"
      },
      "execution_count": null,
      "outputs": []
    },
    {
      "cell_type": "code",
      "source": [
        "df2 = df.loc[(df.type == 'TRANSFER')|(df.type == 'CASH_OUT')]"
      ],
      "metadata": {
        "id": "efQnbM5uGH7Q"
      },
      "execution_count": null,
      "outputs": []
    },
    {
      "cell_type": "code",
      "source": [
        "df2['type'].unique()"
      ],
      "metadata": {
        "id": "xuTudHLPGXBY"
      },
      "execution_count": null,
      "outputs": []
    },
    {
      "cell_type": "code",
      "source": [
        "df2['type'] = LabelEncoder().fit_transform(df2['type'])"
      ],
      "metadata": {
        "id": "LRQRg2IiGhHw"
      },
      "execution_count": null,
      "outputs": []
    },
    {
      "cell_type": "markdown",
      "source": [
        "*   Agora retiramos as colunas que após a analise não fazem sentido\n",
        "\n",
        "*   Como já tinhamos visto as transações com ocorrência de fraude são apenas 'TRANSFER' e 'CASH_OUT' então tratamos a coluna type deixando apenas as transações com ocorrências.\n",
        "\n",
        "*   Com o LabelEncoder tratamos a coluna type e colocamos os valores entre 0 e 1 lembrando que essa era nossa unica coluna texto.\n",
        "\n",
        "\n",
        "\n",
        "\n"
      ],
      "metadata": {
        "id": "LzUB6fMztUo_"
      }
    },
    {
      "cell_type": "markdown",
      "source": [
        "### ***Modelling***"
      ],
      "metadata": {
        "id": "clv1n2VuH4qi"
      }
    },
    {
      "cell_type": "code",
      "source": [
        "# Separando a coluna target em 'y' e o restante do dataset para normalizar em 'X'\n",
        "X = df2.drop(columns=['isFraud'])\n",
        "y = df2['isFraud']"
      ],
      "metadata": {
        "id": "v_dqXd0SIBh2"
      },
      "execution_count": null,
      "outputs": []
    },
    {
      "cell_type": "code",
      "source": [
        "# Normalização\n",
        "X_norm = MinMaxScaler().fit_transform(X)\n",
        "X_norm"
      ],
      "metadata": {
        "id": "Gwibdrt6uPyI"
      },
      "execution_count": null,
      "outputs": []
    },
    {
      "cell_type": "code",
      "source": [
        "# Dividindo o dataset entre treino e teste\n",
        "X_train, X_test, y_train, y_test = train_test_split(X_norm,\n",
        "                                                    y,\n",
        "                                                    test_size = .30,\n",
        "                                                    random_state=42)"
      ],
      "metadata": {
        "id": "rhX96rRLK4IV"
      },
      "execution_count": null,
      "outputs": []
    },
    {
      "cell_type": "code",
      "source": [
        "# Modelo de regressão logistica\n",
        "logitic = linear_model.LogisticRegression()\n",
        "logitic.fit(X_train,y_train)\n",
        "y_pred = logitic.predict(X_test)\n",
        "print(classification_report(y_test,y_pred))\n",
        "accuracy_score(y_test,y_pred)"
      ],
      "metadata": {
        "id": "wgGhk1QbOBf_"
      },
      "execution_count": null,
      "outputs": []
    },
    {
      "cell_type": "markdown",
      "source": [
        "### Conclusão:\n",
        "\n",
        "*   Após a analise nosso modelo teve uma precisão de 98% estamos levando em conta somente a precisão pois nesse caso o falso positivo pode ser mais prejudicial financeiramente, foram feitos vários testes e nosso melhor resultado foi esse, usamos também o normalizador ‘StandarScaler’ e tivemos um resultado de 90% de precisão com isso escolhemos o ‘MinMaxScaler’.\n",
        "\n",
        "*   O problema parece a quantidade de ocorrências de fraude o que dificulta fazendo com que o dataset seja desequilibrado, acreditamos que com mais exemplos e melhor tratamento dos dados nos conseguiremos melhorar as métricas.\n",
        "\n"
      ],
      "metadata": {
        "id": "MaHOpnWfuld5"
      }
    }
  ]
}