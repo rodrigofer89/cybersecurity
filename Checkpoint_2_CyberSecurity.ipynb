{
  "cells": [
    {
      "cell_type": "markdown",
      "metadata": {
        "id": "view-in-github",
        "colab_type": "text"
      },
      "source": [
        "<a href=\"https://colab.research.google.com/github/rodrigofer89/cybersecurity/blob/main/Checkpoint_2_CyberSecurity.ipynb\" target=\"_parent\"><img src=\"https://colab.research.google.com/assets/colab-badge.svg\" alt=\"Open In Colab\"/></a>"
      ]
    },
    {
      "cell_type": "code",
      "execution_count": null,
      "metadata": {
        "id": "IrGWaByQLn1k",
        "colab": {
          "base_uri": "https://localhost:8080/"
        },
        "outputId": "be6ee716-dc11-43c0-e047-186546bc2aa8"
      },
      "outputs": [
        {
          "output_type": "stream",
          "name": "stdout",
          "text": [
            "\u001b[?25l\r\u001b[K     |▍                               | 10 kB 30.2 MB/s eta 0:00:01\r\u001b[K     |▉                               | 20 kB 23.2 MB/s eta 0:00:01\r\u001b[K     |█▎                              | 30 kB 30.9 MB/s eta 0:00:01\r\u001b[K     |█▊                              | 40 kB 14.5 MB/s eta 0:00:01\r\u001b[K     |██▏                             | 51 kB 13.7 MB/s eta 0:00:01\r\u001b[K     |██▋                             | 61 kB 15.7 MB/s eta 0:00:01\r\u001b[K     |███                             | 71 kB 15.5 MB/s eta 0:00:01\r\u001b[K     |███▌                            | 81 kB 17.2 MB/s eta 0:00:01\r\u001b[K     |████                            | 92 kB 17.2 MB/s eta 0:00:01\r\u001b[K     |████▍                           | 102 kB 14.3 MB/s eta 0:00:01\r\u001b[K     |████▉                           | 112 kB 14.3 MB/s eta 0:00:01\r\u001b[K     |█████▎                          | 122 kB 14.3 MB/s eta 0:00:01\r\u001b[K     |█████▊                          | 133 kB 14.3 MB/s eta 0:00:01\r\u001b[K     |██████▏                         | 143 kB 14.3 MB/s eta 0:00:01\r\u001b[K     |██████▋                         | 153 kB 14.3 MB/s eta 0:00:01\r\u001b[K     |███████                         | 163 kB 14.3 MB/s eta 0:00:01\r\u001b[K     |███████▌                        | 174 kB 14.3 MB/s eta 0:00:01\r\u001b[K     |████████                        | 184 kB 14.3 MB/s eta 0:00:01\r\u001b[K     |████████▍                       | 194 kB 14.3 MB/s eta 0:00:01\r\u001b[K     |████████▉                       | 204 kB 14.3 MB/s eta 0:00:01\r\u001b[K     |█████████▎                      | 215 kB 14.3 MB/s eta 0:00:01\r\u001b[K     |█████████▊                      | 225 kB 14.3 MB/s eta 0:00:01\r\u001b[K     |██████████▏                     | 235 kB 14.3 MB/s eta 0:00:01\r\u001b[K     |██████████▌                     | 245 kB 14.3 MB/s eta 0:00:01\r\u001b[K     |███████████                     | 256 kB 14.3 MB/s eta 0:00:01\r\u001b[K     |███████████▍                    | 266 kB 14.3 MB/s eta 0:00:01\r\u001b[K     |███████████▉                    | 276 kB 14.3 MB/s eta 0:00:01\r\u001b[K     |████████████▎                   | 286 kB 14.3 MB/s eta 0:00:01\r\u001b[K     |████████████▊                   | 296 kB 14.3 MB/s eta 0:00:01\r\u001b[K     |█████████████▏                  | 307 kB 14.3 MB/s eta 0:00:01\r\u001b[K     |█████████████▋                  | 317 kB 14.3 MB/s eta 0:00:01\r\u001b[K     |██████████████                  | 327 kB 14.3 MB/s eta 0:00:01\r\u001b[K     |██████████████▌                 | 337 kB 14.3 MB/s eta 0:00:01\r\u001b[K     |███████████████                 | 348 kB 14.3 MB/s eta 0:00:01\r\u001b[K     |███████████████▍                | 358 kB 14.3 MB/s eta 0:00:01\r\u001b[K     |███████████████▉                | 368 kB 14.3 MB/s eta 0:00:01\r\u001b[K     |████████████████▎               | 378 kB 14.3 MB/s eta 0:00:01\r\u001b[K     |████████████████▊               | 389 kB 14.3 MB/s eta 0:00:01\r\u001b[K     |█████████████████▏              | 399 kB 14.3 MB/s eta 0:00:01\r\u001b[K     |█████████████████▋              | 409 kB 14.3 MB/s eta 0:00:01\r\u001b[K     |██████████████████              | 419 kB 14.3 MB/s eta 0:00:01\r\u001b[K     |██████████████████▌             | 430 kB 14.3 MB/s eta 0:00:01\r\u001b[K     |███████████████████             | 440 kB 14.3 MB/s eta 0:00:01\r\u001b[K     |███████████████████▍            | 450 kB 14.3 MB/s eta 0:00:01\r\u001b[K     |███████████████████▉            | 460 kB 14.3 MB/s eta 0:00:01\r\u001b[K     |████████████████████▎           | 471 kB 14.3 MB/s eta 0:00:01\r\u001b[K     |████████████████████▋           | 481 kB 14.3 MB/s eta 0:00:01\r\u001b[K     |█████████████████████           | 491 kB 14.3 MB/s eta 0:00:01\r\u001b[K     |█████████████████████▌          | 501 kB 14.3 MB/s eta 0:00:01\r\u001b[K     |██████████████████████          | 512 kB 14.3 MB/s eta 0:00:01\r\u001b[K     |██████████████████████▍         | 522 kB 14.3 MB/s eta 0:00:01\r\u001b[K     |██████████████████████▉         | 532 kB 14.3 MB/s eta 0:00:01\r\u001b[K     |███████████████████████▎        | 542 kB 14.3 MB/s eta 0:00:01\r\u001b[K     |███████████████████████▊        | 552 kB 14.3 MB/s eta 0:00:01\r\u001b[K     |████████████████████████▏       | 563 kB 14.3 MB/s eta 0:00:01\r\u001b[K     |████████████████████████▋       | 573 kB 14.3 MB/s eta 0:00:01\r\u001b[K     |█████████████████████████       | 583 kB 14.3 MB/s eta 0:00:01\r\u001b[K     |█████████████████████████▌      | 593 kB 14.3 MB/s eta 0:00:01\r\u001b[K     |██████████████████████████      | 604 kB 14.3 MB/s eta 0:00:01\r\u001b[K     |██████████████████████████▍     | 614 kB 14.3 MB/s eta 0:00:01\r\u001b[K     |██████████████████████████▉     | 624 kB 14.3 MB/s eta 0:00:01\r\u001b[K     |███████████████████████████▎    | 634 kB 14.3 MB/s eta 0:00:01\r\u001b[K     |███████████████████████████▊    | 645 kB 14.3 MB/s eta 0:00:01\r\u001b[K     |████████████████████████████▏   | 655 kB 14.3 MB/s eta 0:00:01\r\u001b[K     |████████████████████████████▋   | 665 kB 14.3 MB/s eta 0:00:01\r\u001b[K     |█████████████████████████████   | 675 kB 14.3 MB/s eta 0:00:01\r\u001b[K     |█████████████████████████████▌  | 686 kB 14.3 MB/s eta 0:00:01\r\u001b[K     |██████████████████████████████  | 696 kB 14.3 MB/s eta 0:00:01\r\u001b[K     |██████████████████████████████▍ | 706 kB 14.3 MB/s eta 0:00:01\r\u001b[K     |██████████████████████████████▊ | 716 kB 14.3 MB/s eta 0:00:01\r\u001b[K     |███████████████████████████████▏| 727 kB 14.3 MB/s eta 0:00:01\r\u001b[K     |███████████████████████████████▋| 737 kB 14.3 MB/s eta 0:00:01\r\u001b[K     |████████████████████████████████| 745 kB 14.3 MB/s \n",
            "\u001b[?25h  Building wheel for pyngrok (setup.py) ... \u001b[?25l\u001b[?25hdone\n",
            "\u001b[K     |████████████████████████████████| 9.2 MB 14.8 MB/s \n",
            "\u001b[K     |████████████████████████████████| 237 kB 74.3 MB/s \n",
            "\u001b[K     |████████████████████████████████| 4.7 MB 49.7 MB/s \n",
            "\u001b[K     |████████████████████████████████| 164 kB 70.8 MB/s \n",
            "\u001b[K     |████████████████████████████████| 78 kB 7.8 MB/s \n",
            "\u001b[K     |████████████████████████████████| 182 kB 50.7 MB/s \n",
            "\u001b[K     |████████████████████████████████| 63 kB 1.7 MB/s \n",
            "\u001b[K     |████████████████████████████████| 51 kB 7.2 MB/s \n",
            "\u001b[?25h  Building wheel for validators (setup.py) ... \u001b[?25l\u001b[?25hdone\n",
            "\u001b[K     |████████████████████████████████| 3.6 MB 14.5 MB/s \n",
            "\u001b[?25hLooking in indexes: https://pypi.org/simple, https://us-python.pkg.dev/colab-wheels/public/simple/\n",
            "Collecting SpeechRecognition\n",
            "  Downloading SpeechRecognition-3.8.1-py2.py3-none-any.whl (32.8 MB)\n",
            "\u001b[K     |████████████████████████████████| 32.8 MB 1.2 MB/s \n",
            "\u001b[?25hInstalling collected packages: SpeechRecognition\n",
            "Successfully installed SpeechRecognition-3.8.1\n",
            "Looking in indexes: https://pypi.org/simple, https://us-python.pkg.dev/colab-wheels/public/simple/\n",
            "Collecting PyAudio\n",
            "  Downloading PyAudio-0.2.12.tar.gz (42 kB)\n",
            "\u001b[K     |████████████████████████████████| 42 kB 1.6 MB/s \n",
            "\u001b[?25h  Installing build dependencies ... \u001b[?25l\u001b[?25hdone\n",
            "  Getting requirements to build wheel ... \u001b[?25l\u001b[?25hdone\n",
            "    Preparing wheel metadata ... \u001b[?25l\u001b[?25hdone\n",
            "Building wheels for collected packages: PyAudio\n",
            "  Building wheel for PyAudio (PEP 517) ... \u001b[?25l\u001b[?25herror\n",
            "\u001b[31m  ERROR: Failed building wheel for PyAudio\u001b[0m\n",
            "Failed to build PyAudio\n",
            "\u001b[31mERROR: Could not build wheels for PyAudio which use PEP 517 and cannot be installed directly\u001b[0m\n"
          ]
        }
      ],
      "source": [
        "!pip install -q pyngrok\n",
        "!pip install -q streamlit\n",
        "!pip install -q streamlit_ace\n",
        "!pip install SpeechRecognition\n",
        "!pip install PyAudio"
      ]
    },
    {
      "cell_type": "code",
      "execution_count": null,
      "metadata": {
        "id": "gmiDBUiXIMJA",
        "colab": {
          "base_uri": "https://localhost:8080/"
        },
        "outputId": "a2650012-283d-4746-f27e-705769d33dec"
      },
      "outputs": [
        {
          "output_type": "stream",
          "name": "stdout",
          "text": [
            "Cloning into 'streamlit_audio_recorder'...\n",
            "remote: Enumerating objects: 37457, done.\u001b[K\n",
            "remote: Counting objects: 100% (883/883), done.\u001b[K\n",
            "remote: Compressing objects: 100% (482/482), done.\u001b[K\n",
            "remote: Total 37457 (delta 413), reused 558 (delta 383), pack-reused 36574\u001b[K\n",
            "Receiving objects: 100% (37457/37457), 55.64 MiB | 20.10 MiB/s, done.\n",
            "Resolving deltas: 100% (8636/8636), done.\n",
            "Checking out files: 100% (37304/37304), done.\n"
          ]
        }
      ],
      "source": [
        "!git clone https://github.com/stefanrmmr/streamlit_audio_recorder.git"
      ]
    },
    {
      "cell_type": "code",
      "execution_count": null,
      "metadata": {
        "id": "JBGTxesld1d1"
      },
      "outputs": [],
      "source": [
        "!streamlit run app.py &>/dev/null&"
      ]
    },
    {
      "cell_type": "code",
      "execution_count": null,
      "metadata": {
        "colab": {
          "base_uri": "https://localhost:8080/"
        },
        "id": "b8E65fDmMB1I",
        "outputId": "41c86dc8-adfe-4302-820d-b8a862d7c0ea"
      },
      "outputs": [
        {
          "output_type": "stream",
          "name": "stdout",
          "text": [
            "Overwriting app.py\n"
          ]
        }
      ],
      "source": [
        "%%writefile app.py\n",
        "\n",
        "import streamlit as st\n",
        "from pyngrok import ngrok\n",
        "import numpy as np\n",
        "import speech_recognition as sr\n",
        "import soundfile as sf\n",
        "import datetime\n",
        "import streamlit.components.v1 as components\n",
        "from io import BytesIO\n",
        "import librosa\n",
        "import re\n",
        "import os\n",
        "\n",
        "parent_dir = os.path.dirname(os.path.abspath(__file__))\n",
        "build_dir = os.path.join(parent_dir, \"streamlit_audio_recorder/st_audiorec/frontend/build\")\n",
        "st_audiorec = components.declare_component(\"st_audiorec\", path=build_dir)\n",
        "\n",
        "#Cria website\n",
        "def main():\n",
        "\n",
        "  #Elementos da webpage\n",
        "  html_temp = \"\"\"\n",
        "  <div>\n",
        "    <div style =\"width: 34%; margin-right: 1%; height: 100px; display: inline-block; float: left; background-image: url(https://www.santander.com.br/sites/WPC_CMS/imagem/22-08-16_175326_M_logo-santander.svg); background-repeat: no-repeat; background-position-x: center; background-position-y: center; background-size: 90%;\">\n",
        "    </div>\n",
        "    <div style =\"background: #CC0100; width: 65%; height: 100px; display: inline-block; padding: 23px;\">\n",
        "      <h3 style =\"color: white; text-align: center;\">Nova Transação<h3>\n",
        "    </div>\n",
        "  </div>\n",
        "  \"\"\"\n",
        "\n",
        "  def horarioInvalido(hora):\n",
        "    hora = int(hora)\n",
        "    \n",
        "    if hora == 0:\n",
        "      hora = 21\n",
        "    elif hora == 1:\n",
        "      hora = 22\n",
        "    elif hora == 2:\n",
        "      hora = 23\n",
        "    elif hora == 3:\n",
        "      hora = 0\n",
        "    else:\n",
        "      hora = hora - 3\n",
        "\n",
        "    if hora <= 20 or hora < 6:\n",
        "      return True\n",
        "    else:\n",
        "      return False\n",
        "\n",
        "  def validarAudio():\n",
        "    audio_source = '/content/audio.wav'\n",
        "    data, sample_rate = librosa.load(audio_source, sr = None)\n",
        "    sf.write(audio_source, data, sample_rate)\n",
        "    audio = sr.AudioFile(audio_source)\n",
        "    with audio as source:\n",
        "      sr.Recognizer().adjust_for_ambient_noise(source, duration=0.2)\n",
        "      texto = sr.Recognizer().record(source)\n",
        "\n",
        "    retorno = False\n",
        "    try:\n",
        "      frase = sr.Recognizer().recognize_google(texto, language='pt-BR')\n",
        "      if frase == 'não estou em casa':\n",
        "        retorno = True\n",
        "    except sr.UnknownValueError:\n",
        "      retorno = 'erro'\n",
        "\n",
        "    return retorno\n",
        "\n",
        "    if sr.Recognizer().recognize_google(texto, language='pt-BR') == 'não estou em casa':\n",
        "      return True\n",
        "    else:\n",
        "      return false\n",
        "\n",
        "  # Cria display web\n",
        "  st.markdown(html_temp, unsafe_allow_html = True) \n",
        "\n",
        "  \n",
        "  col1, col2 = st.columns(2)\n",
        "  with col1:\n",
        "    chave = st.text_input('Chave PIX*')\n",
        "\n",
        "  with col2:\n",
        "    valor = st.text_input('Valor da transação*')\n",
        "\n",
        "  st.text('Envie um audio com a frase \"não estou em casa\".')\n",
        "  audio = st_audiorec()\n",
        "\n",
        "  if isinstance(audio, dict):\n",
        "    with st.spinner('Verificando audio!...'):\n",
        "      ind, audio = zip(*audio['arr'].items())\n",
        "      ind = np.array(ind, dtype=int) \n",
        "      audio = np.array(audio)          \n",
        "      sorted_ints = audio[ind]\n",
        "      stream = BytesIO(b\"\".join([int(v).to_bytes(1, \"big\") for v in sorted_ints]))\n",
        "      wav_bytes = stream.read()\n",
        "\n",
        "      with open('audio.wav', 'wb') as f:\n",
        "        f.write(wav_bytes)\n",
        "\n",
        "  def validation(chave, valor):\n",
        "    if st.button(\"Transferir\"):\n",
        "      if valor.isnumeric() and int(valor) > 0:\n",
        "        if horarioInvalido(datetime.datetime.now().strftime(\"%H\")) and int(valor) > 3000:\n",
        "          if validarAudio():\n",
        "            st.success('Transação autorizada')  \n",
        "          else:\n",
        "            st.error('Transação não autorizada')\n",
        "        else:\n",
        "          st.success('Transação autorizada')\n",
        "      else:\n",
        "        st.warning('Preencha um valor válido')\n",
        "\n",
        "  validation(chave, valor)\n",
        "\n",
        "if __name__=='__main__': \n",
        "  main()"
      ]
    },
    {
      "cell_type": "code",
      "execution_count": null,
      "metadata": {
        "id": "SnvKDMyCMEAJ",
        "colab": {
          "base_uri": "https://localhost:8080/"
        },
        "outputId": "c2d4bfa4-d11c-4ec7-efe9-c5b1c2f159d2"
      },
      "outputs": [
        {
          "output_type": "stream",
          "name": "stdout",
          "text": [
            "2022-10-13 00:15:21.187 INFO    numexpr.utils: NumExpr defaulting to 2 threads.\n",
            "\u001b[K\u001b[?25hnpx: installed 22 in 1.725s\n",
            "\n",
            "Collecting usage statistics. To deactivate, set browser.gatherUsageStats to False.\n",
            "\u001b[0m\n",
            "your url is: https://crazy-vans-chew-35-204-5-81.loca.lt\n",
            "\u001b[0m\n",
            "\u001b[34m\u001b[1m  You can now view your Streamlit app in your browser.\u001b[0m\n",
            "\u001b[0m\n",
            "\u001b[34m  Network URL: \u001b[0m\u001b[1mhttp://172.28.0.2:8501\u001b[0m\n",
            "\u001b[34m  External URL: \u001b[0m\u001b[1mhttp://35.204.5.81:8501\u001b[0m\n",
            "\u001b[0m\n",
            "\u001b[34m  Stopping...\u001b[0m\n",
            "^C\n"
          ]
        }
      ],
      "source": [
        "!streamlit run app.py & npx localtunnel --port 8501"
      ]
    },
    {
      "cell_type": "code",
      "source": [],
      "metadata": {
        "id": "odlUcB_7pxSC"
      },
      "execution_count": null,
      "outputs": []
    }
  ],
  "metadata": {
    "colab": {
      "collapsed_sections": [],
      "provenance": [],
      "include_colab_link": true
    },
    "gpuClass": "standard",
    "kernelspec": {
      "display_name": "Python 3.10.2 64-bit",
      "language": "python",
      "name": "python3"
    },
    "language_info": {
      "codemirror_mode": {
        "name": "ipython",
        "version": 3
      },
      "file_extension": ".py",
      "mimetype": "text/x-python",
      "name": "python",
      "nbconvert_exporter": "python",
      "pygments_lexer": "ipython3",
      "version": "3.10.2"
    },
    "vscode": {
      "interpreter": {
        "hash": "6e3977c52f5249dbc2a33b897faad1e0916758085298811edbd14ed6ad707d81"
      }
    }
  },
  "nbformat": 4,
  "nbformat_minor": 0
}