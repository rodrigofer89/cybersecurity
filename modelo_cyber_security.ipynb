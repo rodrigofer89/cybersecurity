{
  "nbformat": 4,
  "nbformat_minor": 0,
  "metadata": {
    "colab": {
      "name": "Untitled1.ipynb",
      "provenance": [],
      "authorship_tag": "ABX9TyPDEeQkvFXnse+ErvKlbw//",
      "include_colab_link": true
    },
    "kernelspec": {
      "name": "python3",
      "display_name": "Python 3"
    },
    "language_info": {
      "name": "python"
    }
  },
  "cells": [
    {
      "cell_type": "markdown",
      "metadata": {
        "id": "view-in-github",
        "colab_type": "text"
      },
      "source": [
        "<a href=\"https://colab.research.google.com/github/rodrigofer89/cybersecurity/blob/main/modelo_cyber_security.ipynb\" target=\"_parent\"><img src=\"https://colab.research.google.com/assets/colab-badge.svg\" alt=\"Open In Colab\"/></a>"
      ]
    },
    {
      "cell_type": "markdown",
      "source": [
        "# Venda ilegal de drogas"
      ],
      "metadata": {
        "id": "9FhYLPTTFEtg"
      }
    },
    {
      "cell_type": "code",
      "source": [
        "import re"
      ],
      "metadata": {
        "id": "NQ7XMJFX4YGE"
      },
      "execution_count": null,
      "outputs": []
    },
    {
      "cell_type": "code",
      "execution_count": null,
      "metadata": {
        "id": "qfZh0CkNDuj5",
        "colab": {
          "base_uri": "https://localhost:8080/"
        },
        "outputId": "081a9d9b-3cae-478a-c635-151a74c07af7"
      },
      "outputs": [
        {
          "output_type": "stream",
          "name": "stdout",
          "text": [
            "carro\n",
            "Item permitido\n"
          ]
        }
      ],
      "source": [
        "lista = [\"canabis\", \"maconha\", \"bud\", \"banza\", \"bagulho\", \"cigarrinho\", \"aliamba\", \"baseado\", \"cigarro do capeta\", \"erva\", \"dedo de gorila\", \"fino\", \"bomba\", \"ganza\"]\n",
        "texto = input()\n",
        "if texto in lista:\n",
        "  print(\"Item proibido\")\n",
        "else:\n",
        "  print(\"Item permitido\")"
      ]
    },
    {
      "cell_type": "code",
      "source": [
        "def getMatchRegex(field):\n",
        "  match = re.search('(?i)|(canabis)|(maconha)|(bud)|(banza)|(bagulho)|(cigarrinho)|(aliamba)|(baseado)|(cigarro do capeta)|(erva)|(dedo de gorila)|(fino)|(bomba)|(ganza)', field.lower())\n",
        "\n",
        "  if match:\n",
        "    print('Item proibido')\n",
        "  else:\n",
        "    print(\"Item permitido\")\n",
        "\n",
        "getMatchRegex(input())"
      ],
      "metadata": {
        "colab": {
          "base_uri": "https://localhost:8080/"
        },
        "id": "3t2tiMGLy4-v",
        "outputId": "59ad84da-c063-416a-99cf-e493e420976e"
      },
      "execution_count": null,
      "outputs": [
        {
          "output_type": "stream",
          "name": "stdout",
          "text": [
            "To vendendo um base4do\n",
            "Item proibido\n"
          ]
        }
      ]
    }
  ]
}